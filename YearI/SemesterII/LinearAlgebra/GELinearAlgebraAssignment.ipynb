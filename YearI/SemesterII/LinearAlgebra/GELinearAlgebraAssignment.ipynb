{
 "cells": [
  {
   "cell_type": "markdown",
   "metadata": {},
   "source": [
    "# Assignment for GE Linear Algebra\n",
    "Submitted by Sudipto Ghosh to the Department of Mathematics, University of Delhi"
   ]
  },
  {
   "cell_type": "code",
   "execution_count": 1,
   "metadata": {},
   "outputs": [
    {
     "name": "stdout",
     "output_type": "stream",
     "text": [
      "Symbolic pkg v2.9.0: Python communication link active, SymPy v1.5.1.\n"
     ]
    }
   ],
   "source": [
    "pkg load symbolic\n",
    "syms A B beta"
   ]
  },
  {
   "cell_type": "markdown",
   "metadata": {},
   "source": [
    "## Part One\n",
    "Consider the linear transformation $L:\\mathbb{R}^3\\to\\mathbb{R}^4$ given by $L(\\vec{v})=A\\vec{v}$ where $A = \\begin{bmatrix} 4 & -2 & 8 \\\\ 7 & 1 & 5 \\\\ -2 & -1 & 0 \\\\ 3 & -2 & 7 \\end{bmatrix}$\n",
    "  - Find $ker(L)$ and $range(L)$\n",
    "  - Verify the Dimension Theorem"
   ]
  },
  {
   "cell_type": "markdown",
   "metadata": {},
   "source": [
    "#### Solution"
   ]
  },
  {
   "cell_type": "markdown",
   "metadata": {},
   "source": [
    "Consider $B$ to be the reduced row echelon form of $A$ and let the columns of A denote the variables $x_1$, $x_2$, and $x_3$."
   ]
  },
  {
   "cell_type": "code",
   "execution_count": 2,
   "metadata": {},
   "outputs": [
    {
     "name": "stdout",
     "output_type": "stream",
     "text": [
      "A = (sym 4×3 matrix)\n",
      "\n",
      "  ⎡4   -2  8⎤\n",
      "  ⎢         ⎥\n",
      "  ⎢7   1   5⎥\n",
      "  ⎢         ⎥\n",
      "  ⎢-2  -1  0⎥\n",
      "  ⎢         ⎥\n",
      "  ⎣3   -2  7⎦\n",
      "\n"
     ]
    }
   ],
   "source": [
    "A = sym([4 -2 8;7 1 5;-2 -1 0;3 -2 7])"
   ]
  },
  {
   "cell_type": "code",
   "execution_count": 3,
   "metadata": {},
   "outputs": [
    {
     "name": "stdout",
     "output_type": "stream",
     "text": [
      "B = (sym 4×3 matrix)\n",
      "\n",
      "  ⎡1  0  1 ⎤\n",
      "  ⎢        ⎥\n",
      "  ⎢0  1  -2⎥\n",
      "  ⎢        ⎥\n",
      "  ⎢0  0  0 ⎥\n",
      "  ⎢        ⎥\n",
      "  ⎣0  0  0 ⎦\n",
      "\n"
     ]
    }
   ],
   "source": [
    "B = rref(A)"
   ]
  },
  {
   "cell_type": "markdown",
   "metadata": {},
   "source": [
    "From $B$, we see that the third column has no pivot entry and thus $x_3$ is independent. Let $x_3=c\\in\\mathbb{R}$.\n",
    "\n",
    "We get the following system for $BX=0$, $\\begin{cases}x_1-x_3=0 \\\\ x_2-2x_3=0 \\end{cases}$\n",
    "\n",
    "Now as $x_3=c\\in\\mathbb{R}$, $x_1=c$ and $x_2=-2c$ i.e. $X = c \\begin{bmatrix} 1 \\\\ -2 \\\\ 1 \\end{bmatrix}$\n",
    "\n",
    "$\\therefore ker(L) = \\Bigg\\{ c \\begin{bmatrix} 1 \\\\ -2 \\\\ 1 \\end{bmatrix} \\;\\Bigg|\\; c \\in \\mathbb{R} \\Bigg\\}$\n",
    "\n",
    "$\\ \\Rightarrow ker(L) = span\\;(\\Bigg\\{ \\begin{bmatrix} 1 \\\\ -2 \\\\ 1 \\end{bmatrix} \\Bigg\\})$"
   ]
  },
  {
   "cell_type": "code",
   "execution_count": 4,
   "metadata": {},
   "outputs": [
    {
     "name": "stdout",
     "output_type": "stream",
     "text": [
      "ans = (sym 3×1 matrix)\n",
      "\n",
      "  ⎡-1⎤\n",
      "  ⎢  ⎥\n",
      "  ⎢2 ⎥\n",
      "  ⎢  ⎥\n",
      "  ⎣1 ⎦\n",
      "\n"
     ]
    }
   ],
   "source": [
    "null(B)"
   ]
  },
  {
   "cell_type": "markdown",
   "metadata": {},
   "source": [
    "Now, $range(L)$ is spanned by linearly independent columns of $A$. From $B$, we know that $x_1$ and $x_2$ are linearly independent.\n",
    "\n",
    "$\\therefore range(L) = span\\;(\\Bigg\\{ \\begin{bmatrix} 4 \\\\ 7 \\\\ -2 \\\\ 3 \\end{bmatrix},\\ \\begin{bmatrix} -2 \\\\ 1 \\\\ -1 \\\\ -2 \\end{bmatrix} \\Bigg\\})$"
   ]
  },
  {
   "cell_type": "markdown",
   "metadata": {},
   "source": [
    "Now, according to the Dimension Theorem, $\\dim(ker(L)) + \\dim(range(L)) = \\dim(V)$ for a linear transformation $L : V \\to W$\n",
    "\n",
    "For **RHS**,\n",
    "\n",
    "For $\\mathbb{R}^3$, $\\dim(\\mathbb{R}^3) = 3$ $\\quad(\\because \\dim(\\mathbb{R}^n) = n)$\n",
    "\n",
    "For **LHS**,\n",
    "\n",
    "As $\\dim(ker(L)) = 1$ and $\\dim(range(L)) = 2$,\n",
    "\n",
    "$\\ \\Rightarrow \\dim(ker(L)) + \\dim(range(L)) = 1 + 2 = 3$\n",
    "\n",
    "$\\therefore \\dim(ker(L)) + \\dim(range(L)) = \\dim(\\mathbb{R}^3)$\n",
    "\n",
    "As **LHS** = **RHS**, the Dimension Theorem is verified."
   ]
  },
  {
   "cell_type": "markdown",
   "metadata": {},
   "source": [
    "## Part Two\n",
    "Consider $L : \\mathbb{P}_2 \\to \\mathbb{R}^2$ given by $L(p) = \\begin{bmatrix} p(1) \\\\ p'(1) \\end{bmatrix}$ for some $p \\in \\mathbb{P}_2$. Verify the Dimension Theorem."
   ]
  },
  {
   "cell_type": "markdown",
   "metadata": {},
   "source": [
    "#### Solution\n",
    "For $L : \\mathbb{P}_2 \\to \\mathbb{R}^2$, consider some $p \\in \\mathbb{P}_2$ as $p = a^2 + bx + c$.\n",
    "\n",
    "$\\Rightarrow L(p) = \\begin{bmatrix} a + b + c \\\\ 2a + b \\end{bmatrix}$\n",
    "\n",
    "Consider the standard bases for $\\mathbb{P}_2$ and $\\mathbb{R}^2$ as $B = \\langle x^2, x, 1 \\rangle$ and $C = \\langle e_1, e_2 \\rangle$ respectively.\n",
    "\n",
    "We get the transformation matrix $A_{BC}$ for $L$ as $A_{BC} = \\begin{bmatrix} 1 && 1 && 1 \\\\ 2 && 1 && 0 \\end{bmatrix}$"
   ]
  },
  {
   "cell_type": "code",
   "execution_count": 5,
   "metadata": {},
   "outputs": [
    {
     "name": "stdout",
     "output_type": "stream",
     "text": [
      "A = (sym 2×3 matrix)\n",
      "\n",
      "  ⎡1  1  1⎤\n",
      "  ⎢       ⎥\n",
      "  ⎣2  1  0⎦\n",
      "\n"
     ]
    }
   ],
   "source": [
    "A = sym([1 1 1;2 1 0])"
   ]
  },
  {
   "cell_type": "markdown",
   "metadata": {},
   "source": [
    "Row reducing $A_{BC}$ and let $\\beta = rref(A_{BC})$,"
   ]
  },
  {
   "cell_type": "code",
   "execution_count": 6,
   "metadata": {},
   "outputs": [
    {
     "name": "stdout",
     "output_type": "stream",
     "text": [
      "beta = (sym 2×3 matrix)\n",
      "\n",
      "  ⎡1  0  -1⎤\n",
      "  ⎢        ⎥\n",
      "  ⎣0  1  2 ⎦\n",
      "\n"
     ]
    }
   ],
   "source": [
    "beta = rref(A)"
   ]
  },
  {
   "cell_type": "markdown",
   "metadata": {},
   "source": [
    "From $\\beta$, we see that the third column has no pivot entry and thus the constant term is independent. Let the constant be some $\\alpha\\in\\mathbb{R}$.\n",
    "\n",
    "We get the following system for $\\beta X=0$, $\\begin{cases}x^2-1=0 \\\\ x+2=0 \\end{cases}$\n",
    "\n",
    "Now as constant is $\\alpha\\in\\mathbb{R}$, we get $x^2=\\alpha$ and $x=-2\\alpha$ i.e. $X = \\alpha \\begin{bmatrix} 1 \\\\ -2 \\\\ 1 \\end{bmatrix}$\n",
    "\n",
    "$\\therefore ker(L) = \\Bigg\\{ \\alpha \\begin{bmatrix} 1 \\\\ -2 \\\\ 1 \\end{bmatrix} \\;\\Bigg|\\; \\alpha \\in \\mathbb{R} \\Bigg\\}$\n",
    "\n",
    "$\\ \\Rightarrow ker(L) = span\\;(\\Bigg\\{ \\begin{bmatrix} 1 \\\\ -2 \\\\ 1 \\end{bmatrix} \\Bigg\\})$"
   ]
  },
  {
   "cell_type": "code",
   "execution_count": 7,
   "metadata": {},
   "outputs": [
    {
     "name": "stdout",
     "output_type": "stream",
     "text": [
      "ans = (sym 3×1 matrix)\n",
      "\n",
      "  ⎡1 ⎤\n",
      "  ⎢  ⎥\n",
      "  ⎢-2⎥\n",
      "  ⎢  ⎥\n",
      "  ⎣1 ⎦\n",
      "\n"
     ]
    }
   ],
   "source": [
    "null(beta)"
   ]
  },
  {
   "cell_type": "markdown",
   "metadata": {},
   "source": [
    "From $\\beta$, $x^2$ and $x$ columns are independent.\n",
    "\n",
    "$\\therefore range(L) = span\\;(\\Bigg\\{ \\begin{bmatrix} 1 \\\\ 2 \\end{bmatrix},\\ \\begin{bmatrix} 1 \\\\ 1 \\end{bmatrix} \\Bigg\\})$"
   ]
  },
  {
   "cell_type": "markdown",
   "metadata": {},
   "source": [
    "Now, according to the Dimension Theorem, $\\dim(ker(L)) + \\dim(range(L)) = \\dim(V)$ for a linear transformation $L : V \\to W$\n",
    "\n",
    "For **RHS**,\n",
    "\n",
    "For $\\mathbb{P}_2$, $\\dim(\\mathbb{P}_2) = 3$ $\\quad(\\because \\dim(\\mathbb{P}_n) = n + 1)$\n",
    "\n",
    "For **LHS**,\n",
    "\n",
    "As $\\dim(ker(L)) = 1$ and $\\dim(range(L)) = 2$,\n",
    "\n",
    "$\\ \\Rightarrow \\dim(ker(L)) + \\dim(range(L)) = 1 + 2 = 3$\n",
    "\n",
    "$\\therefore \\dim(ker(L)) + \\dim(range(L)) = \\dim(\\mathbb{P}_2)$\n",
    "\n",
    "As **LHS** = **RHS**, the Dimension Theorem is verified."
   ]
  },
  {
   "cell_type": "markdown",
   "metadata": {},
   "source": [
    "## Part Three\n",
    "Consider $L : \\mathcal{M}_{2 2} \\to \\mathcal{M}_{3 2}$ given by $L(\\begin{bmatrix} a_{1 1} && a_{1 2} \\\\ a_{2 1} && a_{2 2} \\end{bmatrix}) = \\begin{bmatrix} 0 && -a_{1 2} \\\\ -a_{2 1} && 0 \\\\ 0 && 0 \\end{bmatrix}$. Find $ker(L)$ and $range(L)$."
   ]
  },
  {
   "cell_type": "markdown",
   "metadata": {},
   "source": [
    "#### Solution\n",
    "Consider the standard bases for $\\mathcal{M}_{2 2}$ be $B = \\Bigg\\langle \\begin{bmatrix} 1 && 0 \\\\ 0 && 0 \\end{bmatrix},\\ \\begin{bmatrix} 0 && 1 \\\\ 0 && 0 \\end{bmatrix},\\ \\begin{bmatrix} 0 && 0 \\\\ 1 && 0 \\end{bmatrix},\\ \\begin{bmatrix} 0 && 0 \\\\ 0 && 1 \\end{bmatrix} \\Bigg\\rangle$ and that for $\\mathcal{M}_{3 2}$ be $C$ respectively.\n",
    "\n",
    "The transition matrix $A_{BC}$ is given by $A_{BC} = \\begin{bmatrix} 0 && 0 && 0 && 0 \\\\ 0 && -1 && 0 && 0 \\\\ 0 && 0 && -1 && 0 \\\\ 0 && 0 && 0 && 0 \\\\ 0 && 0 && 0 && 0 \\\\ 0 && 0 && 0 && 0 \\end{bmatrix}$"
   ]
  },
  {
   "cell_type": "code",
   "execution_count": 8,
   "metadata": {},
   "outputs": [
    {
     "name": "stdout",
     "output_type": "stream",
     "text": [
      "A = (sym 6×4 matrix)\n",
      "\n",
      "  ⎡0  0   0   0⎤\n",
      "  ⎢            ⎥\n",
      "  ⎢0  -1  0   0⎥\n",
      "  ⎢            ⎥\n",
      "  ⎢0  0   -1  0⎥\n",
      "  ⎢            ⎥\n",
      "  ⎢0  0   0   0⎥\n",
      "  ⎢            ⎥\n",
      "  ⎢0  0   0   0⎥\n",
      "  ⎢            ⎥\n",
      "  ⎣0  0   0   0⎦\n",
      "\n"
     ]
    }
   ],
   "source": [
    "A = sym([0 0 0 0;0 -1 0 0;0 0 -1 0;0 0 0 0;0 0 0 0;0 0 0 0])"
   ]
  },
  {
   "cell_type": "markdown",
   "metadata": {},
   "source": [
    "Row reducing $A_{BC}$ and let $\\beta = rref(A_{BC})$,"
   ]
  },
  {
   "cell_type": "code",
   "execution_count": 9,
   "metadata": {},
   "outputs": [
    {
     "name": "stdout",
     "output_type": "stream",
     "text": [
      "beta = (sym 6×4 matrix)\n",
      "\n",
      "  ⎡0  1  0  0⎤\n",
      "  ⎢          ⎥\n",
      "  ⎢0  0  1  0⎥\n",
      "  ⎢          ⎥\n",
      "  ⎢0  0  0  0⎥\n",
      "  ⎢          ⎥\n",
      "  ⎢0  0  0  0⎥\n",
      "  ⎢          ⎥\n",
      "  ⎢0  0  0  0⎥\n",
      "  ⎢          ⎥\n",
      "  ⎣0  0  0  0⎦\n",
      "\n"
     ]
    }
   ],
   "source": [
    "beta = rref(A)"
   ]
  },
  {
   "cell_type": "markdown",
   "metadata": {},
   "source": [
    "In $\\beta$, first and fourth columns are independent. Let $a_{1 1}$ and $a_{2 2}$ $\\in \\mathbb{R}$.\n",
    "\n",
    "For the system $\\beta X = 0$ i.e. $\\beta \\begin{bmatrix} a_{1 1} && a_{1 2} \\\\ a_{2 1} && a_{2 2} \\end{bmatrix} = \\begin{bmatrix} 0 && 0 \\\\ 0 && 0 \\end{bmatrix}$, we get $a_{1 2} = 0$ and $a_{2 1} = 0$.\n",
    "\n",
    "That is, $X = \\Bigg\\{ \\begin{bmatrix} a && 0 \\\\ 0 && b  \\end{bmatrix} \\;\\bigg|\\; a, b \\in \\mathbb{R}  \\Bigg\\}$\n",
    "\n",
    "$\\therefore ker(L) = span\\;(\\Bigg\\{ \\begin{bmatrix} 1 && 0 \\\\ 0 && 0 \\end{bmatrix},\\ \\begin{bmatrix} 0 && 0 \\\\ 0 && 1 \\end{bmatrix} \\Bigg\\})$"
   ]
  },
  {
   "cell_type": "code",
   "execution_count": 10,
   "metadata": {},
   "outputs": [
    {
     "name": "stdout",
     "output_type": "stream",
     "text": [
      "ans = (sym 4×2 matrix)\n",
      "\n",
      "  ⎡1  0⎤\n",
      "  ⎢    ⎥\n",
      "  ⎢0  0⎥\n",
      "  ⎢    ⎥\n",
      "  ⎢0  0⎥\n",
      "  ⎢    ⎥\n",
      "  ⎣0  1⎦\n",
      "\n"
     ]
    }
   ],
   "source": [
    "null(A)"
   ]
  },
  {
   "cell_type": "markdown",
   "metadata": {},
   "source": [
    "From $\\beta$, the second and third columns have pivot entries,\n",
    "\n",
    "$\\therefore range(L) = span\\;(\\Bigg\\{ \\begin{bmatrix} 0 && -1 \\\\ 0 && 0 \\\\ 0 && 0 \\end{bmatrix},\\ \\begin{bmatrix} 0 && 0 \\\\ -1 && 0 \\\\ 0 && 0 \\end{bmatrix} \\Bigg\\})$"
   ]
  },
  {
   "cell_type": "markdown",
   "metadata": {},
   "source": [
    "## Part Four\n",
    "Verify that $\\mathbb{P}_3 \\cong \\mathbb{R}^4$ as $L : \\mathbb{P}_3 \\to \\mathbb{R}^4$ given by $L(p) = \\begin{bmatrix} p(-1) \\\\ p(0) \\\\ p(1) \\\\ p(2) \\end{bmatrix}$ for some $p \\in \\mathbb{P}_3$."
   ]
  },
  {
   "cell_type": "markdown",
   "metadata": {},
   "source": [
    "#### Solution\n",
    "In order to show that $\\mathbb{P}_3 \\cong \\mathbb{R}^4$, we must show that $L$ is an isomorphism from $\\mathbb{P}_3$ to $\\mathbb{R}^4$. To show that $L$ is an isomorphism, we must also show the following:\n",
    "  - $L$ is a linear transformation.\n",
    "  - $L$ is one-one.\n",
    "  - $L$ is onto.\n",
    "  \n",
    "Consider $L : \\mathbb{P}_3 \\to \\mathbb{R}^4$ given by $L(p) = \\begin{bmatrix} p(-1) \\\\ p(0) \\\\ p(1) \\\\ p(2) \\end{bmatrix}$ for some $p = ax^3 + bx^2 + cx + d \\in \\mathbb{P}_3$.\n",
    "\n",
    "$\\Rightarrow L(p) = \\begin{bmatrix} -a+b-c+d \\\\ d \\\\ a+b+c+d \\\\ 8a+4b+2c+d \\end{bmatrix} $"
   ]
  },
  {
   "cell_type": "markdown",
   "metadata": {},
   "source": [
    "Consider the standard bases for $\\mathbb{P}_3$ and $\\mathbb{R}^4$ as $B = \\langle x^3, x^2, x, 1 \\rangle$ and $C = \\langle e_1, e_2, e_3, e_4 \\rangle$ respectively.\n",
    "\n",
    "We get the transformation matrix $A_{BC}$ for $L$ as $A_{BC} = \\begin{bmatrix} -1 && 1 && -1 && 1 \\\\ 0 && 0 && 0 && 1 \\\\ 1 && 1 && 1 && 1 \\\\ 8 && 4 && 2 && 1 \\end{bmatrix}$"
   ]
  },
  {
   "cell_type": "code",
   "execution_count": 11,
   "metadata": {},
   "outputs": [
    {
     "name": "stdout",
     "output_type": "stream",
     "text": [
      "A = (sym 4×4 matrix)\n",
      "\n",
      "  ⎡-1  1  -1  1⎤\n",
      "  ⎢            ⎥\n",
      "  ⎢0   0  0   1⎥\n",
      "  ⎢            ⎥\n",
      "  ⎢1   1  1   1⎥\n",
      "  ⎢            ⎥\n",
      "  ⎣8   4  2   1⎦\n",
      "\n"
     ]
    }
   ],
   "source": [
    "A = sym([-1 1 -1 1;0 0 0 1;1 1 1 1;8 4 2 1])"
   ]
  },
  {
   "cell_type": "markdown",
   "metadata": {},
   "source": [
    "Also, $\\det(A_{BC}) = 12 \\neq 0$ $\\Rightarrow A_{BC}$ is invertible $\\Rightarrow A_{BC}^{-1}$ exists $\\Rightarrow L^{-1}$ is possible."
   ]
  },
  {
   "cell_type": "code",
   "execution_count": 12,
   "metadata": {},
   "outputs": [
    {
     "name": "stdout",
     "output_type": "stream",
     "text": [
      "ans = (sym) 12\n"
     ]
    }
   ],
   "source": [
    "det(A)"
   ]
  },
  {
   "cell_type": "markdown",
   "metadata": {},
   "source": [
    "##### To Show: **$L$** is a Linear Transformation\n",
    "Suppose $L$ is a linear transformation, then the following properties must hold:\n",
    "  * $L(p_1,p_2) = L(p_1) + L(p_2)$\n",
    "  * $L(\\alpha p) = \\alpha L(p)$\n",
    "  \n",
    "###### Proving **$L(p_1,p_2) = L(p_1) + L(p_2)$**\n",
    "Consider $p_1 = a_1x^3 + b_1x^2 + c_1x + d_1$ and $p_2 = a_2x^3 + b_2x^2 + c_2x + d_2$ $\\in \\mathbb{P}_3$.\n",
    "\n",
    "For **LHS**,\n",
    "\n",
    "$L(p_1+p_2)$\n",
    "\n",
    "$\\; \\Rightarrow L((a_1 + a_2)x^3 + (b_1 + b_2)x^2 + (c_1 + c_2)x + (d_1 + d_2))$\n",
    "\n",
    "$\\; \\Rightarrow L(p) = \\begin{bmatrix} -(a_1 + a_2)+(b_1 + b_2)-(c_1 + c_2)+(d_1 + d_2) \\\\ (d_1 + d_2) \\\\ (a_1 + a_2)+(b_1 + b_2)+(c_1 + c_2)+(d_1 + d_2) \\\\ 8(a_1 + a_2)+4(b_1 + b_2)+2(c_1 + c_2)+(d_1 + d_2) \\end{bmatrix} $\n",
    "\n",
    "For **RHS**.\n",
    "\n",
    "$L(p_1) + L(p_2)$\n",
    "\n",
    "$\\; \\Rightarrow L(a_1x^3 + b_1x^2 + c_1x + d_1) + L(a_2x^3 + b_2x^2 + c_2x + d_2)$\n",
    "\n",
    "$\\; \\Rightarrow \\begin{bmatrix} -a_1+b_1-c_1+d_1 \\\\ d_1 \\\\ a_1+b_1+c_1+d_1 \\\\ 8a_1+4b_1+2c_1+d_1 \\end{bmatrix} + \\begin{bmatrix} -a_2+b_2-c_2+d_2 \\\\ d_2 \\\\ a_2+b_2+c_2+d_2 \\\\ 8a_2+4b_2+2c_2+d_2 \\end{bmatrix}$\n",
    "\n",
    "$\\; \\Rightarrow \\begin{bmatrix} -(a_1 + a_2)+(b_1 + b_2)-(c_1 + c_2)+(d_1 + d_2) \\\\ (d_1 + d_2) \\\\ (a_1 + a_2)+(b_1 + b_2)+(c_1 + c_2)+(d_1 + d_2) \\\\ 8(a_1 + a_2)+4(b_1 + b_2)+2(c_1 + c_2)+(d_1 + d_2) \\end{bmatrix} $\n",
    "\n",
    "As **LHS** = **RHS**, it is shown that $L(p_1,p_2) = L(p_1) + L(p_2)$\n",
    "\n",
    "###### Proving **$L(\\alpha p) = \\alpha L(p)$**\n",
    "Consider some $\\alpha \\in \\mathbb{R}$ and $p = ax^3 + bx^2 + cx + d \\in \\mathbb{P}_3$.\n",
    "\n",
    "For **LHS**,\n",
    "\n",
    "$L(\\alpha p)$\n",
    "\n",
    "$\\; \\Rightarrow L((\\alpha a)x^3 + (\\alpha b)x^2 + (\\alpha c)x + (\\alpha d))$\n",
    "\n",
    "$\\; \\Rightarrow \\begin{bmatrix} -(\\alpha a)+(\\alpha b)-(\\alpha c)+(\\alpha d) \\\\ (\\alpha d) \\\\ (\\alpha a)+(\\alpha b)+(\\alpha c)+(\\alpha d) \\\\ 8(\\alpha a)+4(\\alpha b)+2(\\alpha c)+(\\alpha d) \\end{bmatrix} $\n",
    "\n",
    "For **RHS**.\n",
    "\n",
    "$\\alpha L(p)$\n",
    "\n",
    "$\\; \\Rightarrow \\alpha \\; \\begin{bmatrix} -a+b-c+d \\\\ d \\\\ a+b+c+d \\\\ 8a+4b+2c+d \\end{bmatrix} $\n",
    "\n",
    "$\\; \\Rightarrow \\begin{bmatrix} -(\\alpha a)+(\\alpha b)-(\\alpha c)+(\\alpha d) \\\\ (\\alpha d) \\\\ (\\alpha a)+(\\alpha b)+(\\alpha c)+(\\alpha d) \\\\ 8(\\alpha a)+4(\\alpha b)+2(\\alpha c)+(\\alpha d) \\end{bmatrix} $\n",
    "\n",
    "As **LHS** = **RHS**, it is shown that $L(\\alpha p) = \\alpha L(p)$\n",
    "\n",
    "$\\therefore L$ is a linear transformation. "
   ]
  },
  {
   "cell_type": "markdown",
   "metadata": {},
   "source": [
    "##### To Show: **$L$** is one-one\n",
    "$L$ is one-one $\\iff$ $L(p_1) = L(p_2) \\to p_1 = p_2$\n",
    "\n",
    "Suppose $L$ is one-one.\n",
    "\n",
    "$\\; \\Rightarrow L(p_1) = L(p_2)$\n",
    "\n",
    "$\\; \\Rightarrow A_{BC} \\; p_1 = A_{BC} \\; p_2$\n",
    "\n",
    "$\\; \\Rightarrow A_{BC}^{-1} \\; A_{BC} \\; p_1 = A_{BC}^{-1} \\; A_{BC} \\; p_2$ $\\quad$ ($\\because \\det(A_{BC}) \\neq 0$) \n",
    "\n",
    "$\\; \\Rightarrow p_1 = p_2$\n",
    "\n",
    "As $L(p_1) = L(p_2) \\to p_1 = p_2$,\n",
    "\n",
    "$\\therefore L$ is one-one."
   ]
  },
  {
   "cell_type": "markdown",
   "metadata": {},
   "source": [
    "##### To Show: **$L$** is onto\n",
    "$L$ is one-one $\\iff$ $\\dim(range(L)) = \\dim(\\mathbb{R}^4)$\n",
    "\n",
    "Row reducing $A_{BC}$,"
   ]
  },
  {
   "cell_type": "code",
   "execution_count": 13,
   "metadata": {},
   "outputs": [
    {
     "name": "stdout",
     "output_type": "stream",
     "text": [
      "ans = (sym 4×4 matrix)\n",
      "\n",
      "  ⎡1  0  0  0⎤\n",
      "  ⎢          ⎥\n",
      "  ⎢0  1  0  0⎥\n",
      "  ⎢          ⎥\n",
      "  ⎢0  0  1  0⎥\n",
      "  ⎢          ⎥\n",
      "  ⎣0  0  0  1⎦\n",
      "\n"
     ]
    }
   ],
   "source": [
    "rref(A)"
   ]
  },
  {
   "cell_type": "markdown",
   "metadata": {},
   "source": [
    "In $rref(A)$, all columns have pivot entries.\n",
    "\n",
    "$\\ \\Rightarrow range(L) = span\\;(\\Bigg\\{ \\begin{bmatrix} -1 \\\\ 0 \\\\ 1 \\\\ 8 \\end{bmatrix},\\ \\begin{bmatrix} 1 \\\\ 0 \\\\ 1 \\\\ 4 \\end{bmatrix},\\ \\begin{bmatrix} -1 \\\\ 0 \\\\ 1 \\\\ 2 \\end{bmatrix},\\ \\begin{bmatrix} 1 \\\\ 1 \\\\ 1 \\\\ 1 \\end{bmatrix} \\Bigg\\})$\n",
    "\n",
    "Now $\\dim(range(L)) = 4$ and $\\dim(\\mathbb{R}^4) = 4$, therefore $\\dim(range(L)) = \\dim(\\mathbb{R}^4)$.\n",
    "\n",
    "$\\therefore L$ is onto."
   ]
  },
  {
   "cell_type": "markdown",
   "metadata": {},
   "source": [
    "As $L$ is a linear transformation, is one-one and is onto, it implies that $L$ is an isomorphism from $\\mathbb{P}_3$ to $\\mathbb{R}^4$.\n",
    "\n",
    "$\\therefore \\mathbb{P}_3 \\cong \\mathbb{R}^4$"
   ]
  },
  {
   "cell_type": "markdown",
   "metadata": {},
   "source": [
    "## Part Five\n",
    "Consider the linear transformation $L : \\mathbb{P}_3 \\to \\mathbb{R}^3$ given by $L(dx^3+cx^2+bx+d) = \\begin{bmatrix} a+b \\\\ 2c \\\\ d-a \\end{bmatrix}$.\n",
    "\n",
    "Find $A_{BC}$ where $B$ and $C$ are the standard bases for $\\mathbb{P}_3$ and $\\mathbb{R}^3$ respectively.\n",
    "\n",
    "Find $A_{DE}$ where $D$ and $E$ are the ordered bases $D = \\langle x^3+x^2, x^2+x, x+1, 1 \\rangle$ and $E = \\Bigg\\langle \\  \\begin{bmatrix} -2 \\\\ 1 \\\\ 3 \\end{bmatrix},\\ \\begin{bmatrix} 1 \\\\ -3 \\\\ 0 \\end{bmatrix},\\ \\begin{bmatrix} 3 \\\\ -6 \\\\ 2 \\end{bmatrix} \\ \\Bigg\\rangle$"
   ]
  },
  {
   "cell_type": "markdown",
   "metadata": {},
   "source": [
    "#### Solution\n",
    "Standard bases for $\\mathbb{P}_3$ and $\\mathbb{R}^3$ are $B = \\langle x^3, x^2, x, 1 \\rangle$ and $C = \\langle e_1, e_2, e_3 \\rangle$.\n",
    "\n",
    "Therefore, the transformation matrix $A_{BC}$ is given by $A_{BC} = \\begin{bmatrix} 0 && 0 && 1 && 1 \\\\ 0 && 2 && 0 && 0 \\\\ 1 && 0 && 0 && -1 \\end{bmatrix}$"
   ]
  },
  {
   "cell_type": "code",
   "execution_count": 14,
   "metadata": {},
   "outputs": [
    {
     "name": "stdout",
     "output_type": "stream",
     "text": [
      "A = (sym 3×4 matrix)\n",
      "\n",
      "  ⎡0  0  1  1 ⎤\n",
      "  ⎢           ⎥\n",
      "  ⎢0  2  0  0 ⎥\n",
      "  ⎢           ⎥\n",
      "  ⎣1  0  0  -1⎦\n",
      "\n"
     ]
    }
   ],
   "source": [
    "A = sym([0 0 1 1;0 2 0 0;1 0 0 -1])"
   ]
  },
  {
   "cell_type": "markdown",
   "metadata": {},
   "source": [
    "Now, $A_{DE} = Q_{E \\leftarrow C} A_{BC} P_{B \\leftarrow D}$.\n",
    "\n",
    "Using Change of Basis formula to find $Q_{E \\leftarrow C}$ and $P_{B \\leftarrow D}$,\n",
    "\n",
    "Row reducing \n",
    "$\n",
    "\\left [ \n",
    "\\begin{array}{r|r} E & C \\end{array}\n",
    "\\right ] = \\left [ \n",
    "\\begin{array}{rrr|rrr} \n",
    "-2 & 1 & 3 & 1 & 0 & 0 \\\\ 1 & -3 & -6 & 0 & 1 & 0 \\\\ -3 & 0 & 2 & 0 & 0 & 1 \n",
    "\\end{array}\n",
    "\\right ]\n",
    "$ \n",
    "and $\\left [ \\begin{array}{r|r} B & D \\end{array} \\right ]= \\left [ \\begin{array}{rrrr|rrrr} 1 & 0 & 0 & 0 & 1 & 0 & 0 & 0 \\\\ 0 & 1 & 0 & 0 & 1 & 1 & 0 & 0 \\\\ 0 & 0 & 1 & 0 & 0 & 1 & 1 & 0 \\\\ 0 & 0 & 0 & 1 & 0 & 0 & 1 & 1 \\end{array}\\right ]$ to get $\\left [ \\begin{array}{r|r} I_3 & Q_{E \\leftarrow C} \\end{array} \\right ]$ and $\\left [ \\begin{array}{r|r} I_4 & P_{B \\leftarrow D} \\end{array} \\right ]$"
   ]
  },
  {
   "cell_type": "code",
   "execution_count": 15,
   "metadata": {},
   "outputs": [
    {
     "name": "stdout",
     "output_type": "stream",
     "text": [
      "E_aug_C = (sym 3×6 matrix)\n",
      "\n",
      "  ⎡-2  1   3   1  0  0⎤\n",
      "  ⎢                   ⎥\n",
      "  ⎢1   -3  -6  0  1  0⎥\n",
      "  ⎢                   ⎥\n",
      "  ⎣-3  0   2   0  0  1⎦\n",
      "\n",
      "B_aug_D = (sym 4×8 matrix)\n",
      "\n",
      "  ⎡1  0  0  0  1  0  0  0⎤\n",
      "  ⎢                      ⎥\n",
      "  ⎢0  1  0  0  1  1  0  0⎥\n",
      "  ⎢                      ⎥\n",
      "  ⎢0  0  1  0  0  1  1  0⎥\n",
      "  ⎢                      ⎥\n",
      "  ⎣0  0  0  1  0  0  1  1⎦\n",
      "\n",
      "I_aug_Q = (sym 3×6 matrix)\n",
      "\n",
      "  ⎡1  0  0  -6  -2  3 ⎤\n",
      "  ⎢                   ⎥\n",
      "  ⎢0  1  0  16  5   -9⎥\n",
      "  ⎢                   ⎥\n",
      "  ⎣0  0  1  -9  -3  5 ⎦\n",
      "\n",
      "I_aug_P = (sym 4×8 matrix)\n",
      "\n",
      "  ⎡1  0  0  0  1  0  0  0⎤\n",
      "  ⎢                      ⎥\n",
      "  ⎢0  1  0  0  1  1  0  0⎥\n",
      "  ⎢                      ⎥\n",
      "  ⎢0  0  1  0  0  1  1  0⎥\n",
      "  ⎢                      ⎥\n",
      "  ⎣0  0  0  1  0  0  1  1⎦\n",
      "\n"
     ]
    }
   ],
   "source": [
    "E_aug_C = sym([-2 1 3 1 0 0;1 -3 -6 0 1 0;-3 0 2 0 0 1])\n",
    "B_aug_D = sym([1 0 0 0 1 0 0 0;0 1 0 0 1 1 0 0;0 0 1 0 0 1 1 0;0 0 0 1 0 0 1 1])\n",
    "I_aug_Q = rref(E_aug_C)\n",
    "I_aug_P = rref(B_aug_D)"
   ]
  },
  {
   "cell_type": "markdown",
   "metadata": {},
   "source": [
    "We get $Q_{E \\leftarrow C} = \\begin{bmatrix} -6 & -2 & 3 \\\\ 16 & 5 & -9 \\\\ -9 & -3 & 5 \\end{bmatrix}$ and $P_{B \\leftarrow D} = \\begin{bmatrix} 1 & 0 & 0 & 0 \\\\ 1 & 1 & 0 & 0 \\\\ 0 & 1 & 1 & 0 \\\\ 0 & 0 & 1 & 1 \\end{bmatrix}$"
   ]
  },
  {
   "cell_type": "code",
   "execution_count": 16,
   "metadata": {},
   "outputs": [
    {
     "name": "stdout",
     "output_type": "stream",
     "text": [
      "Q = (sym 3×3 matrix)\n",
      "\n",
      "  ⎡-6  -2  3 ⎤\n",
      "  ⎢          ⎥\n",
      "  ⎢16  5   -9⎥\n",
      "  ⎢          ⎥\n",
      "  ⎣-9  -3  5 ⎦\n",
      "\n",
      "P = (sym 4×4 matrix)\n",
      "\n",
      "  ⎡1  0  0  0⎤\n",
      "  ⎢          ⎥\n",
      "  ⎢1  1  0  0⎥\n",
      "  ⎢          ⎥\n",
      "  ⎢0  1  1  0⎥\n",
      "  ⎢          ⎥\n",
      "  ⎣0  0  1  1⎦\n",
      "\n"
     ]
    }
   ],
   "source": [
    "Q = sym([-6 -2 3;16 5 -9;-9 -3 5])\n",
    "P = sym([1 0 0 0;1 1 0 0;0 1 1 0;0 0 1 1])"
   ]
  },
  {
   "cell_type": "markdown",
   "metadata": {},
   "source": [
    "Computing $A_{DE} = Q_{E \\leftarrow C} A_{BC} P_{B \\leftarrow D} = \n",
    "\\begin{bmatrix} -6 & -2 & 3 \\\\ 16 & 5 & -9 \\\\ -9 & -3 & 5 \\end{bmatrix} \n",
    "\\begin{bmatrix} 0 & 0 &  1 & 1 \\\\ 0 & 2 & 0 & 0 \\\\ 1 & 0 & 0 & -1 \\end{bmatrix}\n",
    "\\begin{bmatrix} 1 & 0 & 0 & 0 \\\\ 1 & 1 & 0 & 0 \\\\ 0 & 1 & 1 & 0 \\\\ 0 & 0 & 1 & 1 \\end{bmatrix}$"
   ]
  },
  {
   "cell_type": "code",
   "execution_count": 17,
   "metadata": {},
   "outputs": [
    {
     "name": "stdout",
     "output_type": "stream",
     "text": [
      "ans = (sym 3×4 matrix)\n",
      "\n",
      "  ⎡-1  -10  -15  -9 ⎤\n",
      "  ⎢                 ⎥\n",
      "  ⎢1   26   41   25 ⎥\n",
      "  ⎢                 ⎥\n",
      "  ⎣-1  -15  -23  -14⎦\n",
      "\n"
     ]
    }
   ],
   "source": [
    "Q * A * P"
   ]
  },
  {
   "cell_type": "markdown",
   "metadata": {},
   "source": [
    "$\\therefore A_{DE} = \\begin{bmatrix} -1 & -10 & -15 & -9 \\\\ 1 & 26 & 41 & 25 \\\\ -1 & -15 & -23 & -14 \\end{bmatrix}$"
   ]
  },
  {
   "cell_type": "markdown",
   "metadata": {},
   "source": [
    "## Part Six\n",
    "In $\\mathbb{R}^4$, $\\mathbb{W} = span\\;(\\;\\Bigg\\{ \\begin{bmatrix} 2 \\\\ -1 \\\\ 1 \\\\ 0 \\end{bmatrix},\\ \\begin{bmatrix} 1 \\\\ -1 \\\\ 2 \\\\ 2 \\end{bmatrix} \\Bigg\\}\\;)$ and $\\vec{v} = \\begin{bmatrix} -1 \\\\ 3 \\\\ 3 \\\\ 2 \\end{bmatrix}$\n",
    "\n",
    "  * Find $\\mathrm{proj}_wv$.\n",
    "  * Find $w_1 \\in \\mathbb{W}$ and $w_2 \\in \\mathbb{W}^{\\perp}$ such that $v = w_1 + w_2$.\n",
    "  * Find orthogonal basis of $\\mathbb{W}^{\\perp}$."
   ]
  },
  {
   "cell_type": "markdown",
   "metadata": {},
   "source": [
    "#### Solution\n",
    "\n",
    "##### Findng $\\mathrm{proj}_wv$\n",
    "We need an orthonormal basis to compute $\\mathrm{proj}_wv$. We can normalize the orthogonal basis to get the orthonormal basis.\n",
    "\n",
    "Checking if $w \\subset \\mathbb{R}^4$ has orthogonal basis $w_1 \\cdot w_j = \\begin{bmatrix} 2 \\\\ -1 \\\\ 1 \\\\ 0 \\end{bmatrix}  \\begin{bmatrix} 1 \\\\ -1 \\\\ 2 \\\\ 2 \\end{bmatrix} = 5 \\neq 0 $\n",
    "\n",
    "Therefore, the given basis is not an orthogonal basis.\n",
    "\n",
    "Using the Gram-Schmidt Process,\n",
    "\n",
    "$v_1 = w_1 = \\left [ 2, -1, 1, 0 \\right ]$\n",
    "\n",
    "$v_2 = w_2 - \\mathrm{proj}_{v_1} w_2 = w_2 - \\big( \\frac{w_2 \\cdot v_1}{\\|v_1\\|^2} \\big) v_1 = \\left [ \\frac{-4}{6}, \\frac{-1}{6}, \\frac{7}{6}, \\frac{12}{6} \\right ] = \\left [ -4, -1, 7, 12 \\right ]$\n",
    "\n",
    "Now, $T = \\Bigg\\{ \\begin{bmatrix} 2 \\\\ -1 \\\\ 1 \\\\ 0 \\end{bmatrix},\\ \\begin{bmatrix} -4 \\\\ -1 \\\\ 7 \\\\ 12 \\end{bmatrix} \\Bigg\\}$ is an orthogonal basis for $\\mathbb{W}$ such that $\\mathbb{W} = span(T)$.\n",
    "\n",
    "Normalizing vectors in $T$,\n",
    "\n",
    "$U = \\Bigg\\{ \\bigg[ \\frac{2}{\\sqrt{6}}, \\frac{-1}{\\sqrt{6}}, \\frac{1}{\\sqrt{6}}, 0 \\bigg ], \\bigg[ \\frac{-4}{\\sqrt{210}}, \\frac{-1}{\\sqrt{210}}, \\frac{7}{\\sqrt{210}}, \\frac{12}{\\sqrt{210}} \\bigg] \\Bigg\\}$\n",
    "\n",
    "Now $U$ is an orthonormal basis for $\\mathbb{W}$ such that $\\mathbb{W} = span(U)$."
   ]
  },
  {
   "cell_type": "markdown",
   "metadata": {},
   "source": [
    "Computing $\\mathrm{proj}_wv = (v \\cdot u_1) u_1 + (v \\cdot u_2) u_2$,"
   ]
  },
  {
   "cell_type": "code",
   "execution_count": 18,
   "metadata": {},
   "outputs": [
    {
     "name": "stdout",
     "output_type": "stream",
     "text": [
      "v = (sym) [-1  3  3  2]  (1×4 matrix)\n",
      "u1 = (sym 1×4 matrix)\n",
      "\n",
      "  ⎡√6  -√6   √6   ⎤\n",
      "  ⎢──  ────  ──  0⎥\n",
      "  ⎣3    6    6    ⎦\n",
      "\n",
      "u2 = (sym 1×4 matrix)\n",
      "\n",
      "  ⎡-2⋅√210   -√210   √210  2⋅√210⎤\n",
      "  ⎢────────  ──────  ────  ──────⎥\n",
      "  ⎣  105      210     30     35  ⎦\n",
      "\n",
      "proj_w_v = (sym 1×4 matrix)\n",
      "\n",
      "  ⎡-54              92⎤\n",
      "  ⎢────  4/35  6/5  ──⎥\n",
      "  ⎣ 35              35⎦\n",
      "\n"
     ]
    }
   ],
   "source": [
    "warning('off')\n",
    "v = sym([-1;3;3;2]'),\n",
    "u1 = sym([2/sym(sqrt(6));-1/sym(sqrt(6));1/sym(sqrt(6));0]')\n",
    "u2 = sym([-4/sym(sqrt(210));-1/sym(sqrt(210));7/sym(sqrt(210));12/sym(sqrt(210))]')\n",
    "proj_w_v = sym(dot(v, u1) * u1 + dot(v, u2) * u2)"
   ]
  },
  {
   "cell_type": "markdown",
   "metadata": {},
   "source": [
    "$\\therefore \\mathrm{proj}_wv = \\bigg[ \\frac{-54}{35}, \\frac{4}{35}, \\frac{42}{35}, \\frac{92}{35} \\bigg]$"
   ]
  },
  {
   "cell_type": "markdown",
   "metadata": {},
   "source": [
    "##### Finding **$w_1$** and **$w_2$**\n",
    "We know that if $\\mathbb{W} \\subset \\mathbb{R}^n$ and $v \\in \\mathbb{R}^n$, then $v$ can be expressed as $v = w_1 + w_2$ where $w_1 = \\mathrm{proj}_wv \\in \\mathbb{W}$ and $w_2 = v - \\mathrm{proj}_wv \\in \\mathbb{W}^{\\perp}$ .\n",
    "\n",
    "Therefore, $w_1 = \\mathrm{proj}_w = \\bigg[ \\frac{-54}{35}, \\frac{4}{35}, \\frac{42}{35}, \\frac{92}{35}  \\bigg] \\in \\mathbb{W}$ and $w_2 = v - \\mathrm{proj}_wv = \\bigg[ \\frac{19}{35}, \\frac{101}{35}, \\frac{63}{35}, \\frac{-22}{35}  \\bigg] \\in \\mathbb{W}^{\\perp}$\n",
    "\n",
    "Verification: $w_1 + w_2 = \\bigg[ \\frac{-54}{35}, \\frac{4}{35}, \\frac{42}{35}, \\frac{92}{35}  \\bigg] + \\bigg[ \\frac{19}{35}, \\frac{101}{35}, \\frac{63}{35}, \\frac{-22}{35}  \\bigg] = \\big[ -1, 3, 3, 2 \\big] =  v$"
   ]
  },
  {
   "cell_type": "code",
   "execution_count": 19,
   "metadata": {},
   "outputs": [
    {
     "name": "stdout",
     "output_type": "stream",
     "text": [
      "w1 = (sym 4×1 matrix)\n",
      "\n",
      "  ⎡-54 ⎤\n",
      "  ⎢────⎥\n",
      "  ⎢ 35 ⎥\n",
      "  ⎢    ⎥\n",
      "  ⎢4/35⎥\n",
      "  ⎢    ⎥\n",
      "  ⎢6/5 ⎥\n",
      "  ⎢    ⎥\n",
      "  ⎢ 92 ⎥\n",
      "  ⎢ ── ⎥\n",
      "  ⎣ 35 ⎦\n",
      "\n",
      "w2 = (sym 4×1 matrix)\n",
      "\n",
      "  ⎡ 19 ⎤\n",
      "  ⎢ ── ⎥\n",
      "  ⎢ 35 ⎥\n",
      "  ⎢    ⎥\n",
      "  ⎢101 ⎥\n",
      "  ⎢─── ⎥\n",
      "  ⎢ 35 ⎥\n",
      "  ⎢    ⎥\n",
      "  ⎢9/5 ⎥\n",
      "  ⎢    ⎥\n",
      "  ⎢-22 ⎥\n",
      "  ⎢────⎥\n",
      "  ⎣ 35 ⎦\n",
      "\n",
      "ans = (sym 4×1 matrix)\n",
      "\n",
      "  ⎡-1⎤\n",
      "  ⎢  ⎥\n",
      "  ⎢3 ⎥\n",
      "  ⎢  ⎥\n",
      "  ⎢3 ⎥\n",
      "  ⎢  ⎥\n",
      "  ⎣2 ⎦\n",
      "\n"
     ]
    }
   ],
   "source": [
    "w1 = proj_w_v'\n",
    "w2 = v' - proj_w_v'\n",
    "w1 + w2"
   ]
  },
  {
   "cell_type": "markdown",
   "metadata": {},
   "source": [
    "##### Finding Orthogonal Basis for **$\\mathbb{W}^{\\perp}$**\n",
    "We have $T = \\Bigg\\{ \\begin{bmatrix} 2 \\\\ -1 \\\\ 1 \\\\ 0 \\end{bmatrix},\\ \\begin{bmatrix} -4 \\\\ -1 \\\\ 7 \\\\ 12 \\end{bmatrix} \\Bigg\\}$ which is an orthogonal basis for $\\mathbb{W}$*.\n",
    "\n",
    "Enlarging $\\left [ \\begin{array}{r|r} T & I \\end{array} \\right ]$ to $\\mathbb{R}^4$,\n",
    "\n",
    "$\\; \\Rightarrow \\left [ \\begin{array}{rr|rrrr} \n",
    "2 & -4 & 1 & 0 & 0 & 0 \\\\\n",
    "-1 & -1 & 0 & 1 & 0 & 0 \\\\\n",
    "1 & 7 & 0 & 0 & 1 & 0 \\\\\n",
    "0 & 12 & 0 & 0 & 0 & 1\n",
    "\\end{array} \\right ]$"
   ]
  },
  {
   "cell_type": "code",
   "execution_count": 20,
   "metadata": {},
   "outputs": [
    {
     "name": "stdout",
     "output_type": "stream",
     "text": [
      "T_aug_I = (sym 4×6 matrix)\n",
      "\n",
      "  ⎡2   -4  1  0  0  0⎤\n",
      "  ⎢                  ⎥\n",
      "  ⎢-1  -1  0  1  0  0⎥\n",
      "  ⎢                  ⎥\n",
      "  ⎢1   7   0  0  1  0⎥\n",
      "  ⎢                  ⎥\n",
      "  ⎣0   12  0  0  0  1⎦\n",
      "\n",
      "ans = (sym 4×6 matrix)\n",
      "\n",
      "  ⎡1  0  0  0  1   -7/12⎤\n",
      "  ⎢                     ⎥\n",
      "  ⎢0  1  0  0  0   1/12 ⎥\n",
      "  ⎢                     ⎥\n",
      "  ⎢0  0  1  0  -2   3/2 ⎥\n",
      "  ⎢                     ⎥\n",
      "  ⎣0  0  0  1  1   -1/2 ⎦\n",
      "\n"
     ]
    }
   ],
   "source": [
    "T_aug_I = sym([2 -4 1 0 0 0;-1 -1 0 1 0 0;1 7 0 0 1 0; 0 12 0 0 0 1])\n",
    "rref(T_aug_I)"
   ]
  },
  {
   "cell_type": "markdown",
   "metadata": {},
   "source": [
    "On row reducing, we see that the first four columns are linearly independent. Thus, we can have $w_3 = [1, 0, 0, 0]$ and $w_4 = [0, 1, 0, 0]$.\n",
    "\n",
    "Now the new basis is $T^{\\ast} = \\Bigg\\{ \\begin{bmatrix} 2 \\\\ -1 \\\\ 1 \\\\ 0 \\end{bmatrix},\\ \\begin{bmatrix} -4 \\\\ -1 \\\\ 7 \\\\ 12 \\end{bmatrix},\\ \\begin{bmatrix} 1 \\\\ 0 \\\\ 0 \\\\ 0 \\end{bmatrix},\\ \\begin{bmatrix} 0 \\\\ 1 \\\\ 0 \\\\ 0 \\end{bmatrix} \\Bigg\\}$"
   ]
  },
  {
   "cell_type": "markdown",
   "metadata": {},
   "source": [
    "Using Gram-Schmidt Process for $v_3$ and $v_4$,\n",
    "\n",
    "$v_3 = w_3 - \\mathrm{proj}_{v_1}w_3 - \\mathrm{proj}_{v_2}w_3 = w_3 - \\big( \\frac{w_3 \\cdot v_1}{\\|v_1\\|^2} \\big)v_1 - \\big( \\frac{w_3 \\cdot v_2}{\\|v_2\\|^2} \\big)v_2 = \\left [ \\frac{9}{35}, \\frac{11}{35}, \\frac{-7}{35}, \\frac{8}{35} \\right ]$\n",
    "\n",
    "$v_4 = w_4 - \\mathrm{proj}_{v_1}w_4 - \\mathrm{proj}_{v_2}w_4 - \\mathrm{proj}_{v_3}w_4 = w_4 - \\big( \\frac{w_4 \\cdot v_1}{\\|v_1\\|^2} \\big)v_1 - \\big( \\frac{w_4 \\cdot v_2}{\\|v_2\\|^2} \\big)v_2 - \\big( \\frac{w_4 \\cdot v_3}{\\|v_3\\|^2} \\big)v_3 = \\left [ 0 , \\frac{4}{9}, \\frac{4}{9}, \\frac{-2}{9} \\right ]$"
   ]
  },
  {
   "cell_type": "markdown",
   "metadata": {},
   "source": [
    "As $v_3$, $v_4 \\in \\mathbb{W}^{\\perp}$,\n",
    "\n",
    "$\\therefore \\mathbb{W}^{\\perp} = span\\;(\\;\n",
    "\\Bigg\\{ \n",
    "\\begin{bmatrix} \\frac{9}{35} \\\\ \\frac{11}{35} \\\\ \\frac{-7}{35} \\\\ \\frac{8}{35} \\end{bmatrix},\\\n",
    "\\begin{bmatrix} 0 \\\\ \\frac{4}{9} \\\\ \\frac{4}{9} \\\\ \\frac{-2}{9} \\end{bmatrix}\n",
    "\\Bigg\\}\n",
    "\\;)$ where orthogonal basis of $\\mathbb{W}^{\\perp}$ is $\\Bigg\\{ \n",
    "\\begin{bmatrix} \\frac{9}{35} \\\\ \\frac{11}{35} \\\\ \\frac{-7}{35} \\\\ \\frac{8}{35} \\end{bmatrix},\\\n",
    "\\begin{bmatrix} 0 \\\\ \\frac{4}{9} \\\\ \\frac{4}{9} \\\\ \\frac{-2}{9} \\end{bmatrix}\n",
    "\\Bigg\\}$"
   ]
  },
  {
   "cell_type": "markdown",
   "metadata": {},
   "source": [
    "---\n",
    "Last Updated on April 25, 2020"
   ]
  }
 ],
 "metadata": {
  "kernelspec": {
   "display_name": "Octave",
   "language": "octave",
   "name": "octave"
  },
  "language_info": {
   "file_extension": ".m",
   "help_links": [
    {
     "text": "GNU Octave",
     "url": "https://www.gnu.org/software/octave/support.html"
    },
    {
     "text": "Octave Kernel",
     "url": "https://github.com/Calysto/octave_kernel"
    },
    {
     "text": "MetaKernel Magics",
     "url": "https://metakernel.readthedocs.io/en/latest/source/README.html"
    }
   ],
   "mimetype": "text/x-octave",
   "name": "octave",
   "version": "5.2.0"
  },
  "toc-autonumbering": false,
  "toc-showcode": false,
  "toc-showmarkdowntxt": false,
  "toc-showtags": false
 },
 "nbformat": 4,
 "nbformat_minor": 4
}
